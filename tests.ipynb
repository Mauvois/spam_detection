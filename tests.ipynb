{
 "cells": [
  {
   "cell_type": "code",
   "execution_count": 1,
   "metadata": {},
   "outputs": [
    {
     "name": "stderr",
     "output_type": "stream",
     "text": [
      "2023-10-04 15:55:39.580820: I tensorflow/core/platform/cpu_feature_guard.cc:182] This TensorFlow binary is optimized to use available CPU instructions in performance-critical operations.\n",
      "To enable the following instructions: AVX2 FMA, in other operations, rebuild TensorFlow with the appropriate compiler flags.\n"
     ]
    }
   ],
   "source": [
    "from sklearn.model_selection import train_test_split\n",
    "from sklearn.linear_model import LogisticRegression\n",
    "import pandas as pd\n",
    "import numpy as np\n",
    "from sklearn.preprocessing import LabelEncoder\n",
    "\n",
    "from sklearn.neighbors import KNeighborsClassifier\n",
    "from sklearn.metrics import roc_curve\n",
    "from sklearn.metrics import roc_auc_score\n",
    "import matplotlib.pyplot as plt\n",
    "\n",
    "from tensorflow.keras.models import load_model\n",
    "import pickle"
   ]
  },
  {
   "cell_type": "code",
   "execution_count": 2,
   "metadata": {},
   "outputs": [],
   "source": [
    "df = pd.read_csv('SMSSpamCollection.csv' , sep='\\t',names=[\"cat\",\"sms\"])"
   ]
  },
  {
   "cell_type": "code",
   "execution_count": 5,
   "metadata": {},
   "outputs": [
    {
     "name": "stdout",
     "output_type": "stream",
     "text": [
      "  (0, 7048)\t0.1784900275985698\n",
      "  (0, 4025)\t0.19351337157220336\n",
      "  (0, 3610)\t0.21524949286062467\n",
      "  (0, 1532)\t0.12790243547505906\n",
      "  (0, 1343)\t0.9316665218271033\n",
      "  (1, 7029)\t0.2423922569115933\n",
      "  (1, 6964)\t0.3401716221276635\n",
      "  (1, 6606)\t0.08588657000857217\n",
      "  (1, 6466)\t0.3524324306350518\n",
      "  (1, 6198)\t0.18545699148314512\n",
      "  (1, 4232)\t0.1232219982816173\n",
      "  (1, 4029)\t0.31289675797039523\n",
      "  (1, 3705)\t0.324216849383398\n",
      "  (1, 3628)\t0.16976024793403102\n",
      "  (1, 3491)\t0.2090516696727675\n",
      "  (1, 3475)\t0.14818606288070016\n",
      "  (1, 3400)\t0.15575123077033073\n",
      "  (1, 3356)\t0.1765224371840541\n",
      "  (1, 3306)\t0.18825456703483828\n",
      "  (1, 2923)\t0.15629902585286376\n",
      "  (1, 1843)\t0.21121823398308234\n",
      "  (1, 1693)\t0.22868662838467882\n",
      "  (1, 1161)\t0.18394336982581413\n",
      "  (1, 1154)\t0.20568643105046533\n",
      "  (1, 938)\t0.11659365035539532\n",
      "  :\t:\n",
      "  (1390, 244)\t0.24044182671051856\n",
      "  (1391, 7166)\t0.15263279427393434\n",
      "  (1391, 7105)\t0.20230187065060928\n",
      "  (1391, 6631)\t0.21097549792756096\n",
      "  (1391, 6606)\t0.17728430518286584\n",
      "  (1391, 6493)\t0.23484656863608072\n",
      "  (1391, 5940)\t0.2294236192813554\n",
      "  (1391, 4702)\t0.2017845159652298\n",
      "  (1391, 4638)\t0.13929778545814023\n",
      "  (1391, 4578)\t0.6008125733190136\n",
      "  (1391, 3872)\t0.22287423055893502\n",
      "  (1391, 3447)\t0.3138734699494355\n",
      "  (1391, 3242)\t0.13621724516886288\n",
      "  (1391, 3082)\t0.16995121570898322\n",
      "  (1391, 3071)\t0.1848070037812193\n",
      "  (1391, 3059)\t0.16426502730348969\n",
      "  (1391, 3045)\t0.20443982708859726\n",
      "  (1391, 1561)\t0.13383347287432143\n",
      "  (1391, 938)\t0.12033443814281558\n",
      "  (1392, 7348)\t0.16249179125295335\n",
      "  (1392, 7107)\t0.6209409535796051\n",
      "  (1392, 5661)\t0.4984935525376491\n",
      "  (1392, 3242)\t0.24091801780318947\n",
      "  (1392, 1259)\t0.3516243129661233\n",
      "  (1392, 910)\t0.39730564965821374\n",
      "[[  0   0   0 ... 151   9 206]\n",
      " [  0   0   0 ...  82   2 196]\n",
      " [  0   0   0 ... 481   3 455]\n",
      " ...\n",
      " [  0   0   0 ... 647  19 128]\n",
      " [  0   0   0 ... 232 118 118]\n",
      " [  0   0   0 ... 244 107 590]]\n"
     ]
    }
   ],
   "source": [
    "X_test_mlp = np.load(\"X_test_mlp.npy\", allow_pickle=True)\n",
    "print(X_test_mlp)\n",
    "X_test_tf = np.load(\"X_test_tf.npy\", allow_pickle=True)\n",
    "print(X_test_tf)"
   ]
  },
  {
   "cell_type": "code",
   "execution_count": 4,
   "metadata": {},
   "outputs": [
    {
     "name": "stderr",
     "output_type": "stream",
     "text": [
      "/usr/local/Caskroom/miniconda/base/envs/spam_detection/lib/python3.11/site-packages/sklearn/base.py:329: UserWarning: Trying to unpickle estimator LabelBinarizer from version 1.3.1 when using version 1.1.3. This might lead to breaking code or invalid results. Use at your own risk. For more info please refer to:\n",
      "https://scikit-learn.org/stable/model_persistence.html#security-maintainability-limitations\n",
      "  warnings.warn(\n",
      "/usr/local/Caskroom/miniconda/base/envs/spam_detection/lib/python3.11/site-packages/sklearn/base.py:329: UserWarning: Trying to unpickle estimator MLPClassifier from version 1.3.1 when using version 1.1.3. This might lead to breaking code or invalid results. Use at your own risk. For more info please refer to:\n",
      "https://scikit-learn.org/stable/model_persistence.html#security-maintainability-limitations\n",
      "  warnings.warn(\n"
     ]
    }
   ],
   "source": [
    "tf_model = tf_model = load_model('modeleV1.h5')\n",
    "\n",
    "with open('mlp.pkl', 'rb') as file:\n",
    "        mlp_model = pickle.load(file)"
   ]
  },
  {
   "cell_type": "code",
   "execution_count": 6,
   "metadata": {},
   "outputs": [
    {
     "name": "stdout",
     "output_type": "stream",
     "text": [
      "44/44 [==============================] - 17s 374ms/step\n"
     ]
    }
   ],
   "source": [
    "pred_prob_tf = tf_model.predict(X_test_tf)"
   ]
  },
  {
   "cell_type": "code",
   "execution_count": 8,
   "metadata": {},
   "outputs": [
    {
     "data": {
      "text/plain": [
       "(1393, 1)"
      ]
     },
     "execution_count": 8,
     "metadata": {},
     "output_type": "execute_result"
    }
   ],
   "source": [
    "pred_prob_tf.shape"
   ]
  },
  {
   "cell_type": "code",
   "execution_count": 12,
   "metadata": {},
   "outputs": [],
   "source": [
    "pred_prob_mlp = mlp_model.predict_proba(X_test_mlp.item())"
   ]
  },
  {
   "cell_type": "code",
   "execution_count": 14,
   "metadata": {},
   "outputs": [
    {
     "data": {
      "text/plain": [
       "(1393, 2)"
      ]
     },
     "execution_count": 14,
     "metadata": {},
     "output_type": "execute_result"
    }
   ],
   "source": [
    "pred_prob_mlp.shape"
   ]
  },
  {
   "cell_type": "code",
   "execution_count": null,
   "metadata": {},
   "outputs": [],
   "source": [
    "fpr1, tpr1, thresh1 = roc_curve(y_test, pred_prob_tf, pos_label=1)\n",
    "fpr2, tpr2, thresh2 = roc_curve(y_test, pred_prob_mlp[:,1], pos_label=1)"
   ]
  },
  {
   "cell_type": "code",
   "execution_count": null,
   "metadata": {},
   "outputs": [],
   "source": [
    "random_probs = [0 for i in range(len(y_test))]\n",
    "p_fpr, ptpr,  = roc_curve(y_test, random_probs, pos_label=1)"
   ]
  },
  {
   "cell_type": "code",
   "execution_count": null,
   "metadata": {},
   "outputs": [],
   "source": [
    "plt.plot(fpr1, tpr1, linestyle='--',color='orange', label='Logistic Regression')\n",
    "plt.plot(fpr2, tpr2, linestyle='--',color='green', label='KNN')\n",
    "plt.plot(p_fpr, p_tpr, linestyle='--', color='blue')\n",
    "\n",
    "plt.title('ROC curve')\n",
    "plt.xlabel('False Positive Rate')\n",
    "plt.ylabel('True Positive rate')\n",
    "plt.legend(loc='best')\n",
    "plt.show()"
   ]
  }
 ],
 "metadata": {
  "kernelspec": {
   "display_name": "spam_detection",
   "language": "python",
   "name": "python3"
  },
  "language_info": {
   "codemirror_mode": {
    "name": "ipython",
    "version": 3
   },
   "file_extension": ".py",
   "mimetype": "text/x-python",
   "name": "python",
   "nbconvert_exporter": "python",
   "pygments_lexer": "ipython3",
   "version": "3.11.5"
  },
  "orig_nbformat": 4
 },
 "nbformat": 4,
 "nbformat_minor": 2
}
